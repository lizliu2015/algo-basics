{
  "nbformat": 4,
  "nbformat_minor": 0,
  "metadata": {
    "colab": {
      "name": "Algo Template",
      "provenance": [],
      "include_colab_link": true
    },
    "kernelspec": {
      "name": "python3",
      "display_name": "Python 3"
    },
    "language_info": {
      "name": "python"
    }
  },
  "cells": [
    {
      "cell_type": "markdown",
      "metadata": {
        "id": "view-in-github",
        "colab_type": "text"
      },
      "source": [
        "<a href=\"https://colab.research.google.com/github/lizliu2015/algo-basics/blob/main/Algo_Template.ipynb\" target=\"_parent\"><img src=\"https://colab.research.google.com/assets/colab-badge.svg\" alt=\"Open In Colab\"/></a>"
      ]
    },
    {
      "cell_type": "markdown",
      "source": [
        "# **算法模板**\n",
        "\n",
        "\n",
        "\n",
        "\n",
        "---\n",
        "\n"
      ],
      "metadata": {
        "id": "u55q82THW82B"
      }
    },
    {
      "cell_type": "markdown",
      "source": [
        "# 二分法Binary Search\n",
        "\n",
        "## 使用条件\n",
        "1. 排序数组(30-40%是二分)\n",
        "2. 当面试官要求你找一个比O(n) 更小的时间复杂度算法的时候(99%)\n",
        "3. 找到数组中的一个分割位置，使得左半部分满足某个条件，右半部分不满足(100%)\n",
        "4. 找到一个最大/最小的值使得某个条件被满足(90%)\n",
        "\n",
        "## 复杂度\n",
        "5. 时间复杂度：O(logn)\n",
        "6. 空间复杂度：O(1)"
      ],
      "metadata": {
        "id": "kiWB6VbV1Svt"
      }
    },
    {
      "cell_type": "code",
      "source": [
        "def binary_search(self, nums, target):\n",
        "\n",
        "# corner case 处理\n",
        "# 这里等价于nums is None or len(nums) == 0\n",
        "\n",
        " if not nums:\n",
        "\n",
        " return -1\n",
        "\n",
        "start, end = 0, len(nums) - 1\n",
        "\n",
        " # 用start + 1 < end 而不是start < end 的目的是为了避免死循环\n",
        " # 在first position of target 的情况下不会出现死循环\n",
        " # 但是在last position of target 的情况下会出现死循环\n",
        " # 样例：nums=[1，1] target = 1\n",
        " # 为了统一模板，我们就都采用start + 1 < end，就保证不会出现死循环\n",
        " while start + 1 < end:\n",
        " # python 没有overflow 的问题，直接// 2 就可以了\n",
        " # java 和C++ 最好写成mid = start + (end - start) / 2\n",
        "# 防止在start = 2^31 - 1, end = 2^31 - 1 的情况下出现加法overflow\n",
        " mid = (start + end) // 2\n",
        " # > , =, < 的逻辑先分开写，然后在看看= 的情况是否能合并到其他分支里\n",
        "if nums[mid] < target:\n",
        " start = mid\n",
        " elif nums[mid] == target:\n",
        " end = mid\n",
        " else:\n",
        " end = mid\n",
        "\n",
        " # 因为上面的循环退出条件是start + 1 < end\n",
        " # 因此这里循环结束的时候，start 和end 的关系是相邻关系（1 和2，3 和4 这种）\n",
        " # 因此需要再单独判断start 和end 这两个数谁是我们要的答案\n",
        " # 如果是找first position of target 就先看start，否则就先看end\n",
        " if nums[start] == target:\n",
        " return start\n",
        " if nums[end] == target:\n",
        " return end\n"
      ],
      "metadata": {
        "id": "ZF6wR1N_1ZUE"
      },
      "execution_count": null,
      "outputs": []
    },
    {
      "cell_type": "markdown",
      "source": [
        "# 双指针Two Pointers\n",
        "## 使用条件\n",
        "1. 滑动窗口(90%)\n",
        "2. 时间复杂度要求O(n) (80%是双指针)\n",
        "3. 要求原地操作，只可以使用交换，不能使用额外空间(80%)\n",
        "4. 有子数组subarray /子字符串substring 的关键词(50%)\n",
        "5. 有回文Palindrome 关键词(50%)\n",
        "\n",
        "## 复杂度\n",
        "-  时间复杂度：O(n)\n",
        " - 时间复杂度与最内层循环主体的执行次数有关\n",
        " - 与有多少重循环无关\n",
        "\n",
        "- 空间复杂度：O(1)\n",
        " - 只需要分配两个指针的额外内存\n"
      ],
      "metadata": {
        "id": "k4KvaLmA2Ad1"
      }
    },
    {
      "cell_type": "code",
      "source": [
        ""
      ],
      "metadata": {
        "id": "iI0ULq7Z2Ay8"
      },
      "execution_count": null,
      "outputs": []
    },
    {
      "cell_type": "markdown",
      "source": [
        "# 并查集Union Find\n",
        "\n",
        "使用条件\n",
        "- 需要查询图的连通状况的问题\n",
        "- 需要支持快速合并两个集合的问题\n",
        "\n",
        "复杂度\n",
        "- 时间复杂度union O(1), find O(1)\n",
        "- 空间复杂度O(n)\n"
      ],
      "metadata": {
        "id": "CTEQZ9pYztWR"
      }
    },
    {
      "cell_type": "code",
      "source": [
        "class UnionFind:\n",
        "\n",
        "def __init__(self):\n",
        " # 初始化父指针，集合大小，集合数量\n",
        " self.father = {}\n",
        " self.size_of_set = {}\n",
        " self.num_of_set = 0\n",
        "\n",
        " def add(self, x):\n",
        " # 点如果已经出现，操作无效\n",
        "  if x in self.father:\n",
        "    return\n",
        " # 初始化点的父亲为空对象None\n",
        " # 初始化该点所在集合大小为1\n",
        " # 集合数量增加1\n",
        "  self.father[x] = None\n",
        "  self.num_of_set += 1\n",
        "  self.size_of_set[x] = 1\n",
        "\n",
        "def merge(self, x, y):\n",
        " # 找到两个节点的根\n",
        "  root_x, root_y = self.find(x), self.find(y)\n",
        " # 如果根不是同一个则连接\n",
        "\n",
        " if root_x != root_y:\n",
        " # 将一个点的根变成新的根\n",
        " # 集合数量减少1\n",
        " # 计算新的根所在集合大小\n",
        "    self.father[root_x] = root_y\n",
        "    self.num_of_set -= 1\n",
        "    self.size_of_set[root_y] += self.size_of_set[root_x]\n",
        "\n",
        "def find(self, x): # 返回x的祖宗结点 + 路径压缩\n",
        "# 指针root 指向被查找的点x\n",
        "# 不断找到root 的父亲\n",
        "# 直到root 指向x 的根节点\n",
        "  root = x\n",
        "  while self.father[root] != None:\n",
        "    root = self.father[root]\n",
        "\n",
        "# 将路径上所有点指向根节点root（路径压缩）\n",
        "  while x != root:\n",
        " # 暂存x 原本的父亲\n",
        " # 将x 指向根节点\n",
        " # x 指针上移至x 的父节点\n",
        "    original_father = self.father[x]\n",
        "    self.father[x] = root\n",
        "    x = original_father\n",
        " return root\n",
        "\n",
        " def is_connected(self, x, y):\n",
        " # 两个节点连通等价于两个节点的根相同\n",
        "  return self.find(x) == self.find(y)\n",
        " \n",
        " def get_num_of_set(self):\n",
        " # 获得集合数量\n",
        "  return self.num_of_set\n",
        " def get_size_of_set(self, x):\n",
        " # 获得某个点所在集合大小\n",
        "  return self.size_of_set[self.find(x)]"
      ],
      "metadata": {
        "id": "0f8fhS6wzspz"
      },
      "execution_count": null,
      "outputs": []
    },
    {
      "cell_type": "markdown",
      "source": [
        "# 二叉树分治Binary Tree Divide & Conquer\n",
        "\n",
        "使用条件\n",
        "- 二叉树相关的问题(99%)\n",
        "- 可以一分为二去分别处理之后再合并结果(100%)\n",
        "- 数组相关的问题(10%)\n",
        "\n",
        "复杂度\n",
        "- 时间复杂度O(n)\n",
        "- 空间复杂度O(n) (含递归调用的栈空间最大耗费)"
      ],
      "metadata": {
        "id": "PtTbsDj02sQF"
      }
    },
    {
      "cell_type": "code",
      "source": [
        "def divide_conquer(root):\n",
        "\n",
        " # 递归出口\n",
        " # 一般处理node == null 就够了\n",
        " # 大部分情况不需要处理node == leaf\n",
        "if root is None:\n",
        " return ...\n",
        " # 处理左子树\n",
        " left_result = divide_conquer(node.left)\n",
        " # 处理右子树\n",
        " right_result = divide_conquer(node.right)\n",
        " # 合并答案\n",
        "\n",
        " result = merge left_result and right_result to get merged result\n",
        "\n",
        " return result"
      ],
      "metadata": {
        "id": "hoXXTBvM22l1"
      },
      "execution_count": null,
      "outputs": []
    },
    {
      "cell_type": "markdown",
      "source": [
        "# 二叉搜索树非递归BST Iterator\n",
        "\n",
        "使用条件\n",
        "- 用非递归的方式（Non-recursion / Iteration）实现二叉树的中序遍历\n",
        "- 常用于BST 但不仅仅可以用于BST\n",
        "\n",
        "复杂度\n",
        "- 时间复杂度O(n)\n",
        "- 空间复杂度O(n)"
      ],
      "metadata": {
        "id": "RI5Z0AMA3FLl"
      }
    },
    {
      "cell_type": "code",
      "source": [
        "def inorder_traversal(root):\n",
        "  if root is None:\n",
        "    return []\n",
        " # 创建一个dummy node，右指针指向root\n",
        " # 并放到stack 里，此时stack 的栈顶dummy\n",
        " # 是iterator 的当前位置\n",
        "dummy = TreeNode(0)\n",
        "dummy.right = root\n",
        "stack = [dummy]\n",
        "inorder = []\n",
        " # 每次将iterator 挪到下一个点\n",
        " # 也就是调整stack 使得栈顶到下一个点\n",
        "while stack:\n",
        "  node = stack.pop()\n",
        "  if node.right:\n",
        "    node = node.right\n",
        "    while node:\n",
        "      stack.append(node)\n",
        "      node = node.left\n",
        "  if stack:\n",
        "    inorder.append(stack[-1])\n",
        " return inorder"
      ],
      "metadata": {
        "id": "e9kvelKZ3Zy1"
      },
      "execution_count": null,
      "outputs": []
    },
    {
      "cell_type": "markdown",
      "source": [
        "# 宽度优先搜索BFS\n",
        "additional ： kruskal 算法 https://blog.csdn.net/luomingjun12315/article/details/47700237\n",
        "\n",
        "使用条件\n",
        "- 拓扑排序(100%)\n",
        "- 出现连通块的关键词(100%)\n",
        "- 分层遍历(100%)\n",
        "- 简单图最短路径(100%)\n",
        "- 给定一个变换规则，从初始状态变到终止状态最少几步(100%)\n",
        "\n",
        "复杂度\n",
        "- 时间复杂度：O(n + m)\n",
        " - n 是点数, m 是边数\n",
        "- 空间复杂度：O(n)"
      ],
      "metadata": {
        "id": "q1oS0mrG3P0c"
      }
    },
    {
      "cell_type": "code",
      "source": [
        "def bfs(start_node):\n",
        " # BFS 必须要用队列queue，别用栈stack！\n",
        " # distance(dict) 有两个作用，一个是记录一个点是否被丢进过队列了，避免重复访问\n",
        " # 另外一个是记录start_node 到其他所有节点的最短距离\n",
        " # 如果只求连通性的话，可以换成set 就行\n",
        " # node 做key 的时候比较的是内存地址\n",
        "  queue = collections.deque([start_node])\n",
        "  distance = {start_node: 0}\n",
        " # while 队列不空，不停的从队列里拿出一个点，拓展邻居节点放到队列中\n",
        "  while queue: \n",
        "    node = queue.popleft()\n",
        " # 如果有明确的终点可以在这里加终点的判断\n",
        "    if node 是终点:\n",
        "      break or return something\n",
        "    for neighbor in node.get_neighbors():\n",
        "      if neighor in distnace:\n",
        "        continue\n",
        "      queue.append(neighbor)\n",
        "      distance[neighbor] = distance[node] + 1\n",
        "\n",
        " # 如果需要返回所有点离起点的距离，就return hashmap\n",
        "  return distance\n",
        " # 如果需要返回所有连通的节点, 就return HashMap 里的所有点\n",
        "  return distance.keys()\n",
        " # 如果需要返回离终点的最短距离\n",
        "  return distance[end_node]\n"
      ],
      "metadata": {
        "id": "mvejp8bHu2u9"
      },
      "execution_count": null,
      "outputs": []
    },
    {
      "cell_type": "markdown",
      "source": [
        "## 拓扑排序 Topological Order"
      ],
      "metadata": {
        "id": "ZjQkGD9b6QS3"
      }
    },
    {
      "cell_type": "code",
      "source": [
        "# topological order\n",
        "def get_indegrees(nodes):\n",
        "  counter = {node: 0 for node in nodes}\n",
        "  for node in nodes:\n",
        "    for neighbor in node.get_neighbors():\n",
        "      counter[neighbor] += 1\n",
        "  return counter\n",
        "\n",
        "def topological_sort(nodes):\n",
        " # 统计入度\n",
        "  indegrees = get_indegrees(nodes)\n",
        " # 所有入度为0 的点都放到队列里\n",
        "  queue = collections.deque([\n",
        "                            node\n",
        "                            for node in nodes\n",
        "                            if indegrees[node] == 0\n",
        " ])\n",
        "\n",
        " # 用BFS 算法一个个把点从图里挖出来\n",
        "  topo_order = []\n",
        "  while queue:\n",
        "    node = queue.popleft()\n",
        "    topo_order.append(node)\n",
        "    for neighbor in node.get_neighbors():\n",
        "      indegrees[neighbor] -= 1\n",
        "      if indegrees[neighbor] == 0:\n",
        "        queue.append(neighbor)\n",
        " \n",
        " # 判断是否有循环依赖\n",
        "  if len(topo_order) != len(nodes):\n",
        "    return 有循环依赖(环),没有拓扑序\n",
        "  return topo_order"
      ],
      "metadata": {
        "id": "VTsTq4s8vb4N"
      },
      "execution_count": null,
      "outputs": []
    },
    {
      "cell_type": "markdown",
      "source": [
        "## 最小生成树 Minimun Spanning Tree"
      ],
      "metadata": {
        "id": "sBN6TO5S7hFQ"
      }
    },
    {
      "cell_type": "markdown",
      "source": [
        "# 深度优先搜索DFS\n",
        "使用条件\n",
        "- 找满足某个条件的所有方案(99%)\n",
        "- 二叉树Binary Tree 的问题(90%)\n",
        "- 组合问题(95%)\n",
        " - 问题模型：求出所有满足条件的“组合”\n",
        " - 判断条件：组合中的元素是顺序无关的\n",
        "- 排列问题(95%)\n",
        " - 问题模型：求出所有满足条件的“排列”\n",
        " - 判断条件：组合中的元素是顺序“相关”的。\n",
        "\n",
        "不要用DFS 的场景\n",
        "- 连通块问题（一定要用BFS，否则StackOverflow）\n",
        "- 拓扑排序（一定要用BFS，否则StackOverflow）\n",
        "- 一切BFS 可以解决的问题\n",
        "\n",
        "复杂度\n",
        "- 时间复杂度：O(方案个数* 构造每个方案的时间)\n",
        " - 树的遍历： O(n)\n",
        " - 排列问题： O(n! * n)\n",
        " - 组合问题： O(2^n * n)"
      ],
      "metadata": {
        "id": "rWboNGDGwaC0"
      }
    },
    {
      "cell_type": "code",
      "source": [
        "def dfs(参数列表):\n",
        " if 递归出口:\n",
        " 记录答案\n",
        " return\n",
        " for 所有的拆解可能性:\n",
        " 修改所有的参数\n",
        " dfs(参数列表)\n",
        " 还原所有被修改过的参数\n",
        " return something 如果需要的话，很多时候不需要return 值除了分治的写法"
      ],
      "metadata": {
        "id": "h17N1s_IwZmk"
      },
      "execution_count": null,
      "outputs": []
    },
    {
      "cell_type": "markdown",
      "source": [
        "# 堆Heap\n",
        "\n",
        "使用条件\n",
        "- 找最大值或者最小值(60%)\n",
        "- 找第k 大(pop k 次复杂度O(nlogk))(50%)\n",
        "- 要求logN 时间对数据进行操作(40%)\n",
        "\n",
        "堆不能解决的问题\n",
        "- 查询比某个数大的最小值/最接近的值（平衡排序二叉树Balanced BST 才可以解决）\n",
        "- 找某段区间的最大值最小值（线段树SegmentTree 可以解决）\n",
        "- O(n)找第k 大(使用快排中的partition 操作)"
      ],
      "metadata": {
        "id": "J7Cl_LpnnhC_"
      }
    },
    {
      "cell_type": "code",
      "source": [
        "from heapq import heappush, heappop\n",
        "# by default the heapq package use minheap\n",
        "\n",
        "# heapq.heapify(m) 数组转化为堆\n",
        "# heapq.heappush(m,item) 堆中添加元素 \n",
        "# heapq.heappop(m) 删除堆顶\n",
        "# heapq.heapreplace(m, item) 删除堆顶，并添加元素\n",
        "# heapq.nlargest (n, m) 查找堆中最大的n个元素\n",
        "# heapq.nsmallest(n, m) 查询堆中最小的n个元素\n",
        "\n",
        "class Heap:\n",
        "def __init__(self):\n",
        "  self.minheap = []\n",
        "  self.deleted_set = set()\n",
        "\n",
        "# add value to the heap\n",
        "# can be a single number, or a tuple where the first value is a number\n",
        "def push(self, index, val):\n",
        "  heappush(self.minheap, (val, index))\n",
        "\n",
        "# deletions are done by marking an element as deleted, rather than erasing it entirely. \n",
        "# Deleted locations are treated as empty when inserting and as occupied during a search.\n",
        "def _lazy_deletion(self):\n",
        "  while self.minheap and self.minheap[0][1] in self.deleted_set:\n",
        "    heappop(self.minheap)\n",
        "\n",
        "def top(self):\n",
        "  self._lazy_deletion()\n",
        "  return self.minheap[0]\n",
        "\n",
        "def pop(self):\n",
        "  self._lazy_deletion()   \n",
        "  heappop(self.minheap)\n",
        "\n",
        "def delete(self, index):\n",
        "  self.deleted_set.add(index)\n",
        "\n",
        "def is_empty(self):\n",
        "  return not bool(self.minheap)"
      ],
      "metadata": {
        "id": "j5Y2px9lnhLm"
      },
      "execution_count": null,
      "outputs": []
    },
    {
      "cell_type": "markdown",
      "source": [
        "# 动态规划Dynamic Programming\n",
        "\n",
        "使用条件\n",
        "\n",
        "- 使用场景：\n",
        " - 求方案总数(90%)\n",
        " - 求最值(80%)\n",
        " - 求可行性(80%)\n",
        "\n",
        "- 不适用的场景：\n",
        " - 找所有具体的方案（准确率99%）\n",
        " - 输入数据无序(除了背包问题外，准确率60%~70%)\n",
        " - 暴力算法已经是多项式时间复杂度（准确率80%）\n",
        "\n",
        "- 动态规划四要素(对比递归的四要素)：\n",
        " - 状态(State) -- 递归的定义\n",
        " - 方程(Function) -- 递归的拆解\n",
        " - 初始化(Initialization) -- 递归的出口\n",
        " - 答案(Answer) -- 递归的调用\n",
        "\n",
        "- 几种常见的动态规划：\n",
        " - 背包型\n",
        " - 接龙型\n",
        " - 区间型\n",
        " - 匹配型\n",
        " - 划分型 \n",
        "\n",
        "复杂度\n",
        "\n",
        "时间复杂度:\n",
        "  - O(状态总数* 每个状态的处理耗费)\n",
        "  - 等于O(状态总数* 决策数)\n",
        "\n",
        "空间复杂度：\n",
        "  - O(状态总数) (不使用滚动数组优化)\n",
        "  - O(状态总数/ n)(使用滚动数组优化, n 是被滚动掉的那一个维度)\n",
        "\n",
        "领扣例题\n",
        "• LintCode563.背包问题V(背包型)\n",
        "• LintCode76.最长上升子序列(接龙型)\n",
        "• LintCode 476.石子归并V(区间型)\n",
        "• LintCode 192. 通配符匹配(匹配型)\n",
        "• LintCode107.单词拆分(划分型)\n"
      ],
      "metadata": {
        "id": "vKbXcDy31SiP"
      }
    },
    {
      "cell_type": "markdown",
      "source": [
        "## 背包型\n",
        "  - 给出n 个物品及其大小,问是否能挑选出一些物品装满大小为m 的背包\n",
        "  - 题目中通常有“和”与“差”的概念，数值会被放到状态中\n",
        "  - 通常是二维的状态数组，前i 个组成和为j 状态数组的大小需要开(n + 1) * (m + 1)"
      ],
      "metadata": {
        "id": "DKQngh-q5qtU"
      }
    },
    {
      "cell_type": "markdown",
      "source": [
        "## 01 背包\n",
        "\n"
      ],
      "metadata": {
        "id": "WxoLwtSF4nS-"
      }
    },
    {
      "cell_type": "code",
      "source": [
        "# 状态state\n",
        "\n",
        "dp[i][j] 表示前i 个数里挑若干个数是否能组成和为j\n",
        "\n",
        "# 方程function\n",
        "\n",
        "dp[i][j] = dp[i - 1][j] or dp[i - 1][j - A[i - 1]] 如果j >= A[i - 1]\n",
        "\n",
        "dp[i][j] = dp[i - 1][j] 如果j < A[i - 1]\n",
        "\n",
        "第i 个数的下标是i - 1，所以用的是A[i - 1] 而不是A[i]\n",
        "\n",
        "# 初始化initialization\n",
        "\n",
        "dp[0][0] = true\n",
        "\n",
        "dp[0][1...m] = false\n",
        "\n",
        "# 答案answer\n",
        "\n",
        "使得dp[n][v], 0 s <= v <= m 为true 的最大v\n"
      ],
      "metadata": {
        "id": "VVHcNJxS4y1d"
      },
      "execution_count": null,
      "outputs": []
    },
    {
      "cell_type": "code",
      "source": [
        ""
      ],
      "metadata": {
        "id": "uwR0eNyA5puc"
      },
      "execution_count": null,
      "outputs": []
    },
    {
      "cell_type": "markdown",
      "source": [
        "## 多重背包\n",
        "\n"
      ],
      "metadata": {
        "id": "_hoKlPM05BrM"
      }
    },
    {
      "cell_type": "code",
      "source": [
        "# 状态state\n",
        "\n",
        "dp[i][j] 表示前i 个物品挑出一些放到j 的背包里的最大价值和\n",
        "\n",
        "# 方程function\n",
        "\n",
        "dp[i][j] = max(dp[i - 1][j - count * A[i - 1]] + count * V[i - 1])\n",
        "\n",
        "其中0 <= count <= j / A[i - 1]\n",
        "\n",
        "# 初始化initialization\n",
        "\n",
        "dp[0][0..m] = 0\n",
        "\n",
        "# 答案answer\n",
        "\n",
        "dp[n][m]"
      ],
      "metadata": {
        "id": "66GZsjok5EVc"
      },
      "execution_count": null,
      "outputs": []
    },
    {
      "cell_type": "markdown",
      "source": [
        "## 区间型\n",
        "   -  题目中有subarray / substring 的信息\n",
        "   - 大区间依赖小区间\n"
      ],
      "metadata": {
        "id": "Eb5_VhZT5IaN"
      }
    },
    {
      "cell_type": "code",
      "source": [
        "# 状态state\n",
        "\n",
        "dp[i][j] 表示数组/字符串中i,j 这一段区间的最优值/可行性/方案总数\n",
        "\n",
        "# 方程function\n",
        "\n",
        "dp[i][j] = max/min/sum/or(dp[i,j 之内更小的若干区间])\n",
        "\n",
        "\n"
      ],
      "metadata": {
        "id": "IcdSmEcf5IgX"
      },
      "execution_count": null,
      "outputs": []
    },
    {
      "cell_type": "markdown",
      "source": [
        "## 匹配型\n",
        "  - 通常给出两个字符串\n",
        "   - 两个字符串的匹配值依赖于两个字符串前缀的匹配值\n",
        "   - 字符串长度为n,m 则需要开(n + 1) x (m + 1) 的状态数组\n",
        "   - 要初始化dp[i][0] 与dp[0][i]\n",
        "   - 通常都可以用滚动数组进行空间优化"
      ],
      "metadata": {
        "id": "Ukz24kAc5Q9E"
      }
    },
    {
      "cell_type": "code",
      "source": [
        "# 状态state\n",
        "\n",
        "dp[i][j] 表示第一个字符串的前i 个字符与第二个字符串的前j 个字符怎么样怎么样\n",
        "(max/min/sum/or)"
      ],
      "metadata": {
        "id": "N0tDG4eP5S9s"
      },
      "execution_count": null,
      "outputs": []
    },
    {
      "cell_type": "markdown",
      "source": [
        "##  划分型\n",
        "  - 是前缀型动态规划的一种, 有前缀的思想\n",
        "  - 如果指定了要划分为几个部分：\n",
        "\n",
        "▪ dp[i][j] 表示前i 个数/字符划分为j 个部分的最优值/方案数/可行性\n",
        "\n",
        "  - 如果没有指定划分为几个部分:\n",
        "\n",
        "▪ dp[i] 表示前i 个数/字符划分为若干个部分的最优值/方案数/可行性\n",
        "\n",
        "\n"
      ],
      "metadata": {
        "id": "PsnXr7Jz5YsN"
      }
    },
    {
      "cell_type": "code",
      "source": [
        "# 状态state\n",
        "\n",
        "指定了要划分为几个部分:dp[i][j] 表示前i 个数/字符划分为j 个部分的最优值/方案数/可行性\n",
        "没有指定划分为几个部分: dp[i] 表示前i 个数/字符划分为若干个部分的最优值/方案数/可行性"
      ],
      "metadata": {
        "id": "H0pP-XEk5ibs"
      },
      "execution_count": null,
      "outputs": []
    },
    {
      "cell_type": "markdown",
      "source": [
        "##  接龙型\n",
        "  - 通常会给一个接龙规则，问你最长的龙有多长\n",
        "  - 状态表示通常为: dp[i] 表示以坐标为i 的元素结尾的最长龙的长度\n",
        "  - 方程通常是: dp[i] = max{dp[j] + 1}, j 的后面可以接上i\n",
        "  - LIS 的二分做法选择性的掌握，但并不是所有的接龙型DP 都可以用二分来优化\n",
        "\n"
      ],
      "metadata": {
        "id": "WHNuA5Yf5boE"
      }
    },
    {
      "cell_type": "code",
      "source": [
        "# 状态state\n",
        "\n",
        "状态表示通常为: dp[i] 表示以坐标为i 的元素结尾的最长龙的长度\n",
        "\n",
        "# 方程function\n",
        "\n",
        "dp[i] = max{dp[j] + 1}, j 的后面可以接上i"
      ],
      "metadata": {
        "id": "wB5dqE5-5emU"
      },
      "execution_count": null,
      "outputs": []
    }
  ]
}