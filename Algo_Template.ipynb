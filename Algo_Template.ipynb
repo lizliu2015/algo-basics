{
  "nbformat": 4,
  "nbformat_minor": 0,
  "metadata": {
    "colab": {
      "name": "Algo Template",
      "provenance": [],
      "authorship_tag": "ABX9TyOQFF709PtpUp+ACgjaRLVm",
      "include_colab_link": true
    },
    "kernelspec": {
      "name": "python3",
      "display_name": "Python 3"
    },
    "language_info": {
      "name": "python"
    }
  },
  "cells": [
    {
      "cell_type": "markdown",
      "metadata": {
        "id": "view-in-github",
        "colab_type": "text"
      },
      "source": [
        "<a href=\"https://colab.research.google.com/github/lizliu2015/algo-basics/blob/main/Algo_Template.ipynb\" target=\"_parent\"><img src=\"https://colab.research.google.com/assets/colab-badge.svg\" alt=\"Open In Colab\"/></a>"
      ]
    },
    {
      "cell_type": "code",
      "execution_count": null,
      "metadata": {
        "id": "2xALIR7H1N0L"
      },
      "outputs": [],
      "source": [
        ""
      ]
    },
    {
      "cell_type": "markdown",
      "source": [
        "# 二分法Binary Search\n",
        "## 使用条件\n",
        "1. 排序数组(30-40%是二分)\n",
        "2. 当面试官要求你找一个比O(n) 更小的时间复杂度算法的时候(99%)\n",
        "3. 找到数组中的一个分割位置，使得左半部分满足某个条件，右半部分不满足(100%)\n",
        "4. 找到一个最大/最小的值使得某个条件被满足(90%)\n",
        "## 复杂度\n",
        "5. 时间复杂度：O(logn)\n",
        "6. 空间复杂度：O(1)"
      ],
      "metadata": {
        "id": "kiWB6VbV1Svt"
      }
    },
    {
      "cell_type": "code",
      "source": [
        "def binary_search(self, nums, target):\n",
        "\n",
        "# corner case 处理\n",
        "# 这里等价于nums is None or len(nums) == 0\n",
        "\n",
        " if not nums:\n",
        "\n",
        " return -1\n",
        "\n",
        "start, end = 0, len(nums) - 1\n",
        "\n",
        " # 用start + 1 < end 而不是start < end 的目的是为了避免死循环\n",
        " # 在first position of target 的情况下不会出现死循环\n",
        " # 但是在last position of target 的情况下会出现死循环\n",
        " # 样例：nums=[1，1] target = 1\n",
        " # 为了统一模板，我们就都采用start + 1 < end，就保证不会出现死循环\n",
        " while start + 1 < end:\n",
        " # python 没有overflow 的问题，直接// 2 就可以了\n",
        " # java 和C++ 最好写成mid = start + (end - start) / 2\n",
        "# 防止在start = 2^31 - 1, end = 2^31 - 1 的情况下出现加法overflow\n",
        " mid = (start + end) // 2\n",
        " # > , =, < 的逻辑先分开写，然后在看看= 的情况是否能合并到其他分支里\n",
        "if nums[mid] < target:\n",
        " start = mid\n",
        " elif nums[mid] == target:\n",
        " end = mid\n",
        " else:\n",
        " end = mid\n",
        "\n",
        " # 因为上面的循环退出条件是start + 1 < end\n",
        " # 因此这里循环结束的时候，start 和end 的关系是相邻关系（1 和2，3 和4 这种）\n",
        " # 因此需要再单独判断start 和end 这两个数谁是我们要的答案\n",
        " # 如果是找first position of target 就先看start，否则就先看end\n",
        " if nums[start] == target:\n",
        " return start\n",
        " if nums[end] == target:\n",
        " return end\n"
      ],
      "metadata": {
        "id": "ZF6wR1N_1ZUE"
      },
      "execution_count": null,
      "outputs": []
    },
    {
      "cell_type": "markdown",
      "source": [
        "# 双指针Two Pointers\n",
        "## 使用条件\n",
        "1. 滑动窗口(90%)\n",
        "2. 时间复杂度要求O(n) (80%是双指针)\n",
        "3. 要求原地操作，只可以使用交换，不能使用额外空间(80%)\n",
        "4. 有子数组subarray /子字符串substring 的关键词(50%)\n",
        "5. 有回文Palindrome 关键词(50%)\n",
        "\n",
        "## 复杂度\n",
        "-  时间复杂度：O(n)\n",
        " - 时间复杂度与最内层循环主体的执行次数有关\n",
        " - 与有多少重循环无关\n",
        "\n",
        "- 空间复杂度：O(1)\n",
        " - 只需要分配两个指针的额外内存\n"
      ],
      "metadata": {
        "id": "k4KvaLmA2Ad1"
      }
    },
    {
      "cell_type": "code",
      "source": [
        ""
      ],
      "metadata": {
        "id": "iI0ULq7Z2Ay8"
      },
      "execution_count": null,
      "outputs": []
    },
    {
      "cell_type": "markdown",
      "source": [
        "# 二叉树分治Binary Tree Divide & Conquer\n",
        "\n",
        "使用条件\n",
        "- 二叉树相关的问题(99%)\n",
        "- 可以一分为二去分别处理之后再合并结果(100%)\n",
        "- 数组相关的问题(10%)\n",
        "\n",
        "复杂度\n",
        "- 时间复杂度O(n)\n",
        "- 空间复杂度O(n) (含递归调用的栈空间最大耗费)"
      ],
      "metadata": {
        "id": "PtTbsDj02sQF"
      }
    },
    {
      "cell_type": "code",
      "source": [
        "def divide_conquer(root):\n",
        "\n",
        " # 递归出口\n",
        " # 一般处理node == null 就够了\n",
        " # 大部分情况不需要处理node == leaf\n",
        "if root is None:\n",
        " return ...\n",
        " # 处理左子树\n",
        " left_result = divide_conquer(node.left)\n",
        " # 处理右子树\n",
        " right_result = divide_conquer(node.right)\n",
        " # 合并答案\n",
        "\n",
        " result = merge left_result and right_result to get merged result\n",
        "\n",
        " return result"
      ],
      "metadata": {
        "id": "hoXXTBvM22l1"
      },
      "execution_count": null,
      "outputs": []
    },
    {
      "cell_type": "markdown",
      "source": [
        "# 二叉搜索树非递归BST Iterator\n",
        "\n",
        "使用条件\n",
        "- 用非递归的方式（Non-recursion / Iteration）实现二叉树的中序遍历\n",
        "- 常用于BST 但不仅仅可以用于BST\n",
        "\n",
        "复杂度\n",
        "- 时间复杂度O(n)\n",
        "- 空间复杂度O(n)"
      ],
      "metadata": {
        "id": "RI5Z0AMA3FLl"
      }
    },
    {
      "cell_type": "code",
      "source": [
        "def inorder_traversal(root):\n",
        "  if root is None:\n",
        "    return []\n",
        " # 创建一个dummy node，右指针指向root\n",
        " # 并放到stack 里，此时stack 的栈顶dummy\n",
        " # 是iterator 的当前位置\n",
        "dummy = TreeNode(0)\n",
        "dummy.right = root\n",
        "stack = [dummy]\n",
        "inorder = []\n",
        " # 每次将iterator 挪到下一个点\n",
        " # 也就是调整stack 使得栈顶到下一个点\n",
        "while stack:\n",
        "  node = stack.pop()\n",
        "  if node.right:\n",
        "    node = node.right\n",
        "    while node:\n",
        "      stack.append(node)\n",
        "      node = node.left\n",
        "  if stack:\n",
        "    inorder.append(stack[-1])\n",
        " return inorder"
      ],
      "metadata": {
        "id": "e9kvelKZ3Zy1"
      },
      "execution_count": null,
      "outputs": []
    },
    {
      "cell_type": "markdown",
      "source": [
        "# 宽度优先搜索BFS\n",
        "\n",
        "使用条件\n",
        "- 拓扑排序(100%)\n",
        "- 出现连通块的关键词(100%)\n",
        "- 分层遍历(100%)\n",
        "- 简单图最短路径(100%)\n",
        "- 给定一个变换规则，从初始状态变到终止状态最少几步(100%)\n",
        "\n",
        "复杂度\n",
        "- 时间复杂度：O(n + m)\n",
        " - n 是点数, m 是边数\n",
        "- 空间复杂度：O(n)"
      ],
      "metadata": {
        "id": "q1oS0mrG3P0c"
      }
    },
    {
      "cell_type": "code",
      "source": [
        "def bfs(start_node):\n",
        " # BFS 必须要用队列queue，别用栈stack！\n",
        " # distance(dict) 有两个作用，一个是记录一个点是否被丢进过队列了，避免重复访问\n",
        " # 另外一个是记录start_node 到其他所有节点的最短距离\n",
        " # 如果只求连通性的话，可以换成set 就行\n",
        " # node 做key 的时候比较的是内存地址\n",
        "  queue = collections.deque([start_node])\n",
        "  distance = {start_node: 0}\n",
        " # while 队列不空，不停的从队列里拿出一个点，拓展邻居节点放到队列中\n",
        "  while queue: \n",
        "    node = queue.popleft()\n",
        " # 如果有明确的终点可以在这里加终点的判断\n",
        "    if node 是终点:\n",
        "      break or return something\n",
        "    for neighbor in node.get_neighbors():\n",
        "      if neighor in distnace:\n",
        "        continue\n",
        "      queue.append(neighbor)\n",
        "      distance[neighbor] = distance[node] + 1\n",
        "\n",
        " # 如果需要返回所有点离起点的距离，就return hashmap\n",
        "  return distance\n",
        " # 如果需要返回所有连通的节点, 就return HashMap 里的所有点\n",
        "  return distance.keys()\n",
        " # 如果需要返回离终点的最短距离\n",
        "  return distance[end_node]\n"
      ],
      "metadata": {
        "id": "mvejp8bHu2u9"
      },
      "execution_count": null,
      "outputs": []
    },
    {
      "cell_type": "code",
      "source": [
        "# topological order\n",
        "def get_indegrees(nodes):\n",
        "  counter = {node: 0 for node in nodes}\n",
        "  for node in nodes:\n",
        "    for neighbor in node.get_neighbors():\n",
        "      counter[neighbor] += 1\n",
        "  return counter\n",
        "\n",
        "def topological_sort(nodes):\n",
        " # 统计入度\n",
        "  indegrees = get_indegrees(nodes)\n",
        " # 所有入度为0 的点都放到队列里\n",
        "  queue = collections.deque([\n",
        "                            node\n",
        "                            for node in nodes\n",
        "                            if indegrees[node] == 0\n",
        " ])\n",
        "\n",
        " # 用BFS 算法一个个把点从图里挖出来\n",
        "  topo_order = []\n",
        "  while queue:\n",
        "    node = queue.popleft()\n",
        "    topo_order.append(node)\n",
        "    for neighbor in node.get_neighbors():\n",
        "      indegrees[neighbor] -= 1\n",
        "      if indegrees[neighbor] == 0:\n",
        "        queue.append(neighbor)\n",
        " # 判断是否有循环依赖\n",
        "  if len(topo_order) != len(nodes):\n",
        "    return 有循环依赖(环),没有拓扑序\n",
        "  return topo_order"
      ],
      "metadata": {
        "id": "VTsTq4s8vb4N"
      },
      "execution_count": null,
      "outputs": []
    },
    {
      "cell_type": "markdown",
      "source": [
        "## 深度优先搜索DFS\n",
        "使用条件\n",
        "- 找满足某个条件的所有方案(99%)\n",
        "- 二叉树Binary Tree 的问题(90%)\n",
        "- 组合问题(95%)\n",
        " - 问题模型：求出所有满足条件的“组合”\n",
        " - 判断条件：组合中的元素是顺序无关的\n",
        "- 排列问题(95%)\n",
        " - 问题模型：求出所有满足条件的“排列”\n",
        " - 判断条件：组合中的元素是顺序“相关”的。\n",
        "\n",
        "不要用DFS 的场景\n",
        "- 连通块问题（一定要用BFS，否则StackOverflow）\n",
        "- 拓扑排序（一定要用BFS，否则StackOverflow）\n",
        "- 一切BFS 可以解决的问题\n",
        "\n",
        "复杂度\n",
        "- 时间复杂度：O(方案个数* 构造每个方案的时间)\n",
        " - 树的遍历： O(n)\n",
        " - 排列问题： O(n! * n)\n",
        " - 组合问题： O(2^n * n)"
      ],
      "metadata": {
        "id": "rWboNGDGwaC0"
      }
    },
    {
      "cell_type": "code",
      "source": [
        "1.def dfs(参数列表):\n",
        "2.\n",
        "3. 2. if 递归出口:\n",
        "4.\n",
        "5. 3. 记录答案\n",
        "6.\n",
        "7. 4. return\n",
        "8.\n",
        "9. 5. for 所有的拆解可能性:\n",
        "10.\n",
        "11. 6. 修改所有的参数\n",
        "12.\n",
        "13. 7. dfs(参数列表)\n",
        "14.\n",
        "15. 8. 还原所有被修改过的参数\n",
        "16.\n",
        "17. 9. return something 如果需要的话，很多时候不需要return 值除了分治的写法"
      ],
      "metadata": {
        "id": "h17N1s_IwZmk"
      },
      "execution_count": null,
      "outputs": []
    }
  ]
}